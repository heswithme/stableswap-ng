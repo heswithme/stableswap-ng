{
 "cells": [
  {
   "cell_type": "code",
   "execution_count": 41,
   "metadata": {},
   "outputs": [
    {
     "name": "stdout",
     "output_type": "stream",
     "text": [
      "Forked the chain on block 20420069\n"
     ]
    },
    {
     "ename": "TypeError",
     "evalue": "Unsupported type: '<class 'eth_account.signers.local.LocalAccount'>'. Must be one of: bool, str, bytes, bytearray or int.",
     "output_type": "error",
     "traceback": [
      "\u001b[0;31m---------------------------------------------------------------------------\u001b[0m",
      "\u001b[0;31mTypeError\u001b[0m                                 Traceback (most recent call last)",
      "Cell \u001b[0;32mIn[41], line 52\u001b[0m\n\u001b[1;32m     49\u001b[0m charlie \u001b[38;5;241m=\u001b[39m boa\u001b[38;5;241m.\u001b[39menv\u001b[38;5;241m.\u001b[39mgenerate_address()\n\u001b[1;32m     51\u001b[0m \u001b[38;5;66;03m# Give Alice eth and tokens\u001b[39;00m\n\u001b[0;32m---> 52\u001b[0m \u001b[43mboa\u001b[49m\u001b[38;5;241;43m.\u001b[39;49m\u001b[43menv\u001b[49m\u001b[38;5;241;43m.\u001b[39;49m\u001b[43mset_balance\u001b[49m\u001b[43m(\u001b[49m\u001b[43malice\u001b[49m\u001b[43m,\u001b[49m\u001b[43m \u001b[49m\u001b[43mboa\u001b[49m\u001b[38;5;241;43m.\u001b[39;49m\u001b[43menv\u001b[49m\u001b[38;5;241;43m.\u001b[39;49m\u001b[43mget_balance\u001b[49m\u001b[43m(\u001b[49m\u001b[43malice\u001b[49m\u001b[38;5;241;43m.\u001b[39;49m\u001b[43maddress\u001b[49m\u001b[43m)\u001b[49m\u001b[43m \u001b[49m\u001b[38;5;241;43m+\u001b[39;49m\u001b[43m \u001b[49m\u001b[38;5;241;43m1\u001b[39;49m\u001b[38;5;241;43m*\u001b[39;49m\u001b[38;5;241;43m10\u001b[39;49m\u001b[38;5;241;43m*\u001b[39;49m\u001b[38;5;241;43m*\u001b[39;49m\u001b[38;5;241;43m18\u001b[39;49m\u001b[43m)\u001b[49m\n\u001b[1;32m     53\u001b[0m \u001b[38;5;28;01mfor\u001b[39;00m token \u001b[38;5;129;01min\u001b[39;00m addresses_dict\u001b[38;5;241m.\u001b[39mkeys():\n\u001b[1;32m     54\u001b[0m     \u001b[38;5;28;01mwith\u001b[39;00m boa\u001b[38;5;241m.\u001b[39menv\u001b[38;5;241m.\u001b[39mprank(topholders[token]):\n",
      "File \u001b[0;32m~/pyEnv/crv/lib/python3.12/site-packages/boa/environment.py:107\u001b[0m, in \u001b[0;36mEnv.set_balance\u001b[0;34m(self, addr, value)\u001b[0m\n\u001b[1;32m    106\u001b[0m \u001b[38;5;28;01mdef\u001b[39;00m \u001b[38;5;21mset_balance\u001b[39m(\u001b[38;5;28mself\u001b[39m, addr, value):\n\u001b[0;32m--> 107\u001b[0m     \u001b[38;5;28mself\u001b[39m\u001b[38;5;241m.\u001b[39mevm\u001b[38;5;241m.\u001b[39mset_balance(\u001b[43mAddress\u001b[49m\u001b[43m(\u001b[49m\u001b[43maddr\u001b[49m\u001b[43m)\u001b[49m, value)\n",
      "File \u001b[0;32m~/pyEnv/crv/lib/python3.12/site-packages/boa/util/abi.py:37\u001b[0m, in \u001b[0;36mAddress.__new__\u001b[0;34m(cls, address)\u001b[0m\n\u001b[1;32m     34\u001b[0m \u001b[38;5;28;01mexcept\u001b[39;00m \u001b[38;5;167;01mKeyError\u001b[39;00m:\n\u001b[1;32m     35\u001b[0m     \u001b[38;5;28;01mpass\u001b[39;00m\n\u001b[0;32m---> 37\u001b[0m checksum_address \u001b[38;5;241m=\u001b[39m \u001b[43mto_checksum_address\u001b[49m\u001b[43m(\u001b[49m\u001b[43maddress\u001b[49m\u001b[43m)\u001b[49m\n\u001b[1;32m     38\u001b[0m \u001b[38;5;28mself\u001b[39m \u001b[38;5;241m=\u001b[39m \u001b[38;5;28msuper\u001b[39m()\u001b[38;5;241m.\u001b[39m\u001b[38;5;21m__new__\u001b[39m(\u001b[38;5;28mcls\u001b[39m, checksum_address)\n\u001b[1;32m     39\u001b[0m \u001b[38;5;28mself\u001b[39m\u001b[38;5;241m.\u001b[39mcanonical_address \u001b[38;5;241m=\u001b[39m to_canonical_address(address)\n",
      "File \u001b[0;32m~/pyEnv/crv/lib/python3.12/site-packages/eth_utils/address.py:127\u001b[0m, in \u001b[0;36mto_checksum_address\u001b[0;34m(value)\u001b[0m\n\u001b[1;32m    123\u001b[0m \u001b[38;5;28;01mdef\u001b[39;00m \u001b[38;5;21mto_checksum_address\u001b[39m(value: Union[AnyAddress, \u001b[38;5;28mstr\u001b[39m, \u001b[38;5;28mbytes\u001b[39m]) \u001b[38;5;241m-\u001b[39m\u001b[38;5;241m>\u001b[39m ChecksumAddress:\n\u001b[1;32m    124\u001b[0m \u001b[38;5;250m    \u001b[39m\u001b[38;5;124;03m\"\"\"\u001b[39;00m\n\u001b[1;32m    125\u001b[0m \u001b[38;5;124;03m    Makes a checksum address given a supported format.\u001b[39;00m\n\u001b[1;32m    126\u001b[0m \u001b[38;5;124;03m    \"\"\"\u001b[39;00m\n\u001b[0;32m--> 127\u001b[0m     norm_address \u001b[38;5;241m=\u001b[39m \u001b[43mto_normalized_address\u001b[49m\u001b[43m(\u001b[49m\u001b[43mvalue\u001b[49m\u001b[43m)\u001b[49m\n\u001b[1;32m    128\u001b[0m     address_hash \u001b[38;5;241m=\u001b[39m encode_hex(keccak(text\u001b[38;5;241m=\u001b[39mremove_0x_prefix(HexStr(norm_address))))\n\u001b[1;32m    130\u001b[0m     checksum_address \u001b[38;5;241m=\u001b[39m add_0x_prefix(\n\u001b[1;32m    131\u001b[0m         HexStr(\n\u001b[1;32m    132\u001b[0m             \u001b[38;5;124m\"\u001b[39m\u001b[38;5;124m\"\u001b[39m\u001b[38;5;241m.\u001b[39mjoin(\n\u001b[0;32m   (...)\u001b[0m\n\u001b[1;32m    140\u001b[0m         )\n\u001b[1;32m    141\u001b[0m     )\n",
      "File \u001b[0;32m~/pyEnv/crv/lib/python3.12/site-packages/eth_utils/address.py:73\u001b[0m, in \u001b[0;36mto_normalized_address\u001b[0;34m(value)\u001b[0m\n\u001b[1;32m     69\u001b[0m \u001b[38;5;250m\u001b[39m\u001b[38;5;124;03m\"\"\"\u001b[39;00m\n\u001b[1;32m     70\u001b[0m \u001b[38;5;124;03mConverts an address to its normalized hexadecimal representation.\u001b[39;00m\n\u001b[1;32m     71\u001b[0m \u001b[38;5;124;03m\"\"\"\u001b[39;00m\n\u001b[1;32m     72\u001b[0m \u001b[38;5;28;01mtry\u001b[39;00m:\n\u001b[0;32m---> 73\u001b[0m     hex_address \u001b[38;5;241m=\u001b[39m \u001b[43mhexstr_if_str\u001b[49m\u001b[43m(\u001b[49m\u001b[43mto_hex\u001b[49m\u001b[43m,\u001b[49m\u001b[43m \u001b[49m\u001b[43mvalue\u001b[49m\u001b[43m)\u001b[49m\u001b[38;5;241m.\u001b[39mlower()\n\u001b[1;32m     74\u001b[0m \u001b[38;5;28;01mexcept\u001b[39;00m \u001b[38;5;167;01mAttributeError\u001b[39;00m:\n\u001b[1;32m     75\u001b[0m     \u001b[38;5;28;01mraise\u001b[39;00m \u001b[38;5;167;01mTypeError\u001b[39;00m(\u001b[38;5;124mf\u001b[39m\u001b[38;5;124m\"\u001b[39m\u001b[38;5;124mValue must be any string, instead got type \u001b[39m\u001b[38;5;132;01m{\u001b[39;00m\u001b[38;5;28mtype\u001b[39m(value)\u001b[38;5;132;01m}\u001b[39;00m\u001b[38;5;124m\"\u001b[39m)\n",
      "File \u001b[0;32m~/pyEnv/crv/lib/python3.12/site-packages/eth_utils/conversions.py:190\u001b[0m, in \u001b[0;36mhexstr_if_str\u001b[0;34m(to_type, hexstr_or_primitive)\u001b[0m\n\u001b[1;32m    188\u001b[0m     \u001b[38;5;28;01mreturn\u001b[39;00m to_type(hexstr\u001b[38;5;241m=\u001b[39mhexstr_or_primitive)\n\u001b[1;32m    189\u001b[0m \u001b[38;5;28;01melse\u001b[39;00m:\n\u001b[0;32m--> 190\u001b[0m     \u001b[38;5;28;01mreturn\u001b[39;00m \u001b[43mto_type\u001b[49m\u001b[43m(\u001b[49m\u001b[43mhexstr_or_primitive\u001b[49m\u001b[43m)\u001b[49m\n",
      "File \u001b[0;32m~/pyEnv/crv/lib/python3.12/site-packages/eth_utils/decorators.py:87\u001b[0m, in \u001b[0;36mvalidate_conversion_arguments.<locals>.wrapper\u001b[0;34m(*args, **kwargs)\u001b[0m\n\u001b[1;32m     85\u001b[0m \u001b[38;5;28;01mif\u001b[39;00m \u001b[38;5;28mlen\u001b[39m(args) \u001b[38;5;241m==\u001b[39m \u001b[38;5;241m0\u001b[39m \u001b[38;5;129;01mand\u001b[39;00m \u001b[38;5;124m\"\u001b[39m\u001b[38;5;124mprimitive\u001b[39m\u001b[38;5;124m\"\u001b[39m \u001b[38;5;129;01mnot\u001b[39;00m \u001b[38;5;129;01min\u001b[39;00m kwargs:\n\u001b[1;32m     86\u001b[0m     _assert_hexstr_or_text_kwarg_is_text_type(\u001b[38;5;241m*\u001b[39m\u001b[38;5;241m*\u001b[39mkwargs)\n\u001b[0;32m---> 87\u001b[0m \u001b[38;5;28;01mreturn\u001b[39;00m \u001b[43mto_wrap\u001b[49m\u001b[43m(\u001b[49m\u001b[38;5;241;43m*\u001b[39;49m\u001b[43margs\u001b[49m\u001b[43m,\u001b[49m\u001b[43m \u001b[49m\u001b[38;5;241;43m*\u001b[39;49m\u001b[38;5;241;43m*\u001b[39;49m\u001b[43mkwargs\u001b[49m\u001b[43m)\u001b[49m\n",
      "File \u001b[0;32m~/pyEnv/crv/lib/python3.12/site-packages/eth_utils/conversions.py:68\u001b[0m, in \u001b[0;36mto_hex\u001b[0;34m(primitive, hexstr, text)\u001b[0m\n\u001b[1;32m     65\u001b[0m \u001b[38;5;28;01mif\u001b[39;00m is_integer(primitive):\n\u001b[1;32m     66\u001b[0m     \u001b[38;5;28;01mreturn\u001b[39;00m HexStr(\u001b[38;5;28mhex\u001b[39m(cast(\u001b[38;5;28mint\u001b[39m, primitive)))\n\u001b[0;32m---> 68\u001b[0m \u001b[38;5;28;01mraise\u001b[39;00m \u001b[38;5;167;01mTypeError\u001b[39;00m(\n\u001b[1;32m     69\u001b[0m     \u001b[38;5;124mf\u001b[39m\u001b[38;5;124m\"\u001b[39m\u001b[38;5;124mUnsupported type: \u001b[39m\u001b[38;5;124m'\u001b[39m\u001b[38;5;132;01m{\u001b[39;00m\u001b[38;5;28mrepr\u001b[39m(\u001b[38;5;28mtype\u001b[39m(primitive))\u001b[38;5;132;01m}\u001b[39;00m\u001b[38;5;124m'\u001b[39m\u001b[38;5;124m. Must be one of: bool, str, \u001b[39m\u001b[38;5;124m\"\u001b[39m\n\u001b[1;32m     70\u001b[0m     \u001b[38;5;124m\"\u001b[39m\u001b[38;5;124mbytes, bytearray or int.\u001b[39m\u001b[38;5;124m\"\u001b[39m\n\u001b[1;32m     71\u001b[0m )\n",
      "\u001b[0;31mTypeError\u001b[0m: Unsupported type: '<class 'eth_account.signers.local.LocalAccount'>'. Must be one of: bool, str, bytes, bytearray or int."
     ]
    }
   ],
   "source": [
    "import boa\n",
    "import sys, os\n",
    "from eth_utils import to_checksum_address\n",
    "from boa.contracts.abi.abi_contract import ABIContractFactory\n",
    "from eth_account.account import Account, LocalAccount\n",
    "\n",
    "parent_dir = os.path.abspath('..')\n",
    "sys.path.insert(0, parent_dir)\n",
    "\n",
    "dotenv_path = os.path.expanduser('~/.web3env') # Path to .env file containing rpcs and keys\n",
    "\n",
    "def load_contract(contract_address, name=None, api_key=os.environ.get(\"ETHERSCAN_API_KEY\")):\n",
    "    addr = to_checksum_address(contract_address)\n",
    "    abi = boa.explorer.fetch_abi_from_etherscan(addr, api_key=api_key)\n",
    "    return ABIContractFactory.from_abi_dict(abi, name=name).at(addr)\n",
    "\n",
    "rpc_url = os.getenv(\"ETH_RPC_URL\")\n",
    "assert rpc_url is not None, \"Provider url is not set\"\n",
    "# fork the chain\n",
    "boa.env.fork(url=rpc_url, block_identifier=20420069)\n",
    "boa.env.enable_fast_mode()\n",
    "print(f'Forked the chain on block {boa.env.evm.vm.state.block_number}')\n",
    "\n",
    "addresses_dict = {\n",
    "    # \"pufETH\":       '0xd9a442856c234a39a81a089c06451ebaa4306a72', # does not have version()\n",
    "    \"pufETHwstE\":   '0xeeda34a377dd0ca676b9511ee1324974fa8d980d',\n",
    "    \"crvUSD\":       '0xf939E0A03FB07F59A73314E73794Be0E57ac1b4E'\n",
    "}\n",
    "\n",
    "topholders = {\n",
    "    \"pufETH\":       '0xF047ab4c75cebf0eB9ed34Ae2c186f3611aEAfa6',\n",
    "    \"pufETHwstE\":   '0xf4FA0C7833e778fB9FB392eC36217e17C9133976',\n",
    "    \"crvUSD\":       '0xA920De414eA4Ab66b97dA1bFE9e6EcA7d4219635'\n",
    "}\n",
    "\n",
    "spender = '0xce6431d21e3fb1036ce9973a3312368ed96f5ce7' # some unrelated pool (FRAXsDAI)\n",
    "spender_sc = load_contract(spender, name='FRAXsDAI')\n",
    "\n",
    "# Convert addresses to checksum format\n",
    "for key in addresses_dict.keys():\n",
    "    addresses_dict[key] = to_checksum_address(addresses_dict[key])\n",
    "# Fetch contract data from Etherscan and create the contracts dictionary\n",
    "\n",
    "token_contracts = {key: load_contract(address, name=key) for key, address in addresses_dict.items()}\n",
    "\n",
    "boa.env.set_random_seed(420)\n",
    "alice = Account.create()\n",
    "bob = boa.env.generate_address()\n",
    "charlie = boa.env.generate_address()\n",
    "\n",
    "# Give Alice eth and tokens\n",
    "boa.env.set_balance(alice, boa.env.get_balance(boa.util.abi.Address(alice.address)) + 1*10**18)\n",
    "for token in addresses_dict.keys():\n",
    "    with boa.env.prank(topholders[token]):\n",
    "        token_contracts[token].transfer(alice.address, 1*10**18)\n",
    "    print(f'Alice has {token_contracts[token].balanceOf(alice.address)} {token}')\n"
   ]
  },
  {
   "cell_type": "code",
   "execution_count": 15,
   "metadata": {},
   "outputs": [
    {
     "data": {
      "text/plain": [
       "'v1.0.0'"
      ]
     },
     "execution_count": 15,
     "metadata": {},
     "output_type": "execute_result"
    }
   ],
   "source": [
    "token_contracts['crvUSD'].version()"
   ]
  },
  {
   "cell_type": "code",
   "execution_count": 16,
   "metadata": {},
   "outputs": [
    {
     "name": "stdout",
     "output_type": "stream",
     "text": [
      "Allowance for 0x108b16674BBe7818f37091c31B37E7A911208AAD is 0 for pufETHwstE\n",
      "Allowance for 0x108b16674BBe7818f37091c31B37E7A911208AAD is 0 for crvUSD\n"
     ]
    }
   ],
   "source": [
    "# firsts check that allowance is 0\n",
    "for token in addresses_dict.keys():\n",
    "    assert token_contracts[token].allowance(alice, bob) == 0\n",
    "    print(f'Allowance for {bob} is 0 for {token}')"
   ]
  },
  {
   "cell_type": "code",
   "execution_count": 37,
   "metadata": {},
   "outputs": [
    {
     "name": "stdout",
     "output_type": "stream",
     "text": [
      "Permitting 0x108b16674BBe7818f37091c31B37E7A911208AAD to spend pufETHwstE (0xEEda34A377dD0ca676b9511EE1324974fA8d980D) on behalf of 0x9970BE065e6751AC78Cd07C8E2b54F5D3B88c945\n",
      "SignableMessage(version=HexBytes('0x01'), header=HexBytes('0x4930e62b65934f63c2278e52ff3499d854dee334007b6f38e1ca7828ac12eb5b'), body=HexBytes('0x5a051390f6f430cfc7da793c812bc082a51558454cf9dbb8c1d0e955079c76ea'))\n",
      "Permitting 0x108b16674BBe7818f37091c31B37E7A911208AAD to spend crvUSD (0xf939E0A03FB07F59A73314E73794Be0E57ac1b4E) on behalf of 0x9970BE065e6751AC78Cd07C8E2b54F5D3B88c945\n",
      "SignableMessage(version=HexBytes('0x01'), header=HexBytes('0x7906987b5141f4b3a52bd45bf8cd1495b428ff72f3caefd1d670d9726103a7f0'), body=HexBytes('0x5a051390f6f430cfc7da793c812bc082a51558454cf9dbb8c1d0e955079c76ea'))\n"
     ]
    }
   ],
   "source": [
    "from eip712 import EIP712Message\n",
    "from eth_account._utils.signing import to_bytes32\n",
    "\n",
    "\n",
    "def permit_class(contract) -> type[EIP712Message]:\n",
    "    class Permit(EIP712Message):\n",
    "        # EIP-712 Domain Fields\n",
    "        _name_: \"string\" = contract.name()\n",
    "        _version_: \"string\" = contract.version()\n",
    "        _chainId_: \"uint256\" = boa.env.evm.chain.chain_id\n",
    "        _verifyingContract_: \"address\" = contract.address\n",
    "        _salt_: \"bytes32\" = contract.salt()\n",
    "\n",
    "        # EIP-2612 Data Fields\n",
    "        owner: \"address\"\n",
    "        spender: \"address\"\n",
    "        value: \"uint256\"\n",
    "        nonce: \"uint256\"\n",
    "        deadline: \"uint256\"\n",
    "\n",
    "    return Permit\n",
    "\n",
    "# now try to issue permit so that Bob can transfer Alice's tokens\n",
    "for token in addresses_dict.keys():\n",
    "    print(f'Permitting {bob} to spend {token} ({addresses_dict[token]}) on behalf of {alice}')\n",
    "    # first generate signatiure from alice\n",
    "    value = 2**256 - 1\n",
    "    permit = permit_class(token_contracts[token])(owner=alice, spender=bob, value=value, nonce=0, deadline=2**256 - 1)\n",
    "    # sig = eth_acc.sign_message(permit.signable_message)\n",
    "    print(permit.signable_message)\n"
   ]
  },
  {
   "cell_type": "code",
   "execution_count": 43,
   "metadata": {},
   "outputs": [
    {
     "data": {
      "text/plain": [
       "'0x42c14f32868cC6A0Ee2e628ab4C1247Dd006Fe8b'"
      ]
     },
     "execution_count": 43,
     "metadata": {},
     "output_type": "execute_result"
    }
   ],
   "source": [
    "a = Account.create()\n",
    "a.address"
   ]
  },
  {
   "cell_type": "code",
   "execution_count": 48,
   "metadata": {},
   "outputs": [
    {
     "data": {
      "text/plain": [
       "Address('0x849229Fb812e736ee264A84475beaf1F4A931cE4')"
      ]
     },
     "execution_count": 48,
     "metadata": {},
     "output_type": "execute_result"
    }
   ],
   "source": [
    "boa.env.generate_address()"
   ]
  },
  {
   "cell_type": "code",
   "execution_count": 50,
   "metadata": {},
   "outputs": [
    {
     "data": {
      "text/plain": [
       "Address('0x42c14f32868cC6A0Ee2e628ab4C1247Dd006Fe8b')"
      ]
     },
     "execution_count": 50,
     "metadata": {},
     "output_type": "execute_result"
    }
   ],
   "source": [
    "boa.util.abi.Address(a.address)"
   ]
  },
  {
   "cell_type": "code",
   "execution_count": null,
   "metadata": {},
   "outputs": [],
   "source": []
  }
 ],
 "metadata": {
  "kernelspec": {
   "display_name": "crv",
   "language": "python",
   "name": "python3"
  },
  "language_info": {
   "codemirror_mode": {
    "name": "ipython",
    "version": 3
   },
   "file_extension": ".py",
   "mimetype": "text/x-python",
   "name": "python",
   "nbconvert_exporter": "python",
   "pygments_lexer": "ipython3",
   "version": "3.12.4"
  }
 },
 "nbformat": 4,
 "nbformat_minor": 2
}
