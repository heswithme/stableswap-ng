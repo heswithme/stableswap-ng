{
 "cells": [
  {
   "cell_type": "code",
   "execution_count": 75,
   "metadata": {},
   "outputs": [
    {
     "name": "stdout",
     "output_type": "stream",
     "text": [
      "Forked the chain on block 20420069\n",
      "Alice has 1000000000000000000 pufETHwstE\n",
      "Alice has 1000000000000000000 crvUSD\n"
     ]
    }
   ],
   "source": [
    "import boa\n",
    "import sys, os\n",
    "from eth_utils import to_checksum_address\n",
    "from boa.contracts.abi.abi_contract import ABIContractFactory\n",
    "from eth_account.account import Account, LocalAccount\n",
    "\n",
    "parent_dir = os.path.abspath('..')\n",
    "sys.path.insert(0, parent_dir)\n",
    "\n",
    "dotenv_path = os.path.expanduser('~/.web3env') # Path to .env file containing rpcs and keys\n",
    "\n",
    "def load_contract(contract_address, name=None, api_key=os.environ.get(\"ETHERSCAN_API_KEY\")):\n",
    "    addr = to_checksum_address(contract_address)\n",
    "    abi = boa.explorer.fetch_abi_from_etherscan(addr, api_key=api_key)\n",
    "    return ABIContractFactory.from_abi_dict(abi, name=name).at(addr)\n",
    "\n",
    "rpc_url = os.getenv(\"ETH_RPC_URL\")\n",
    "assert rpc_url is not None, \"Provider url is not set\"\n",
    "# fork the chain\n",
    "boa.env.fork(url=rpc_url, block_identifier=20420069)\n",
    "boa.env.enable_fast_mode()\n",
    "print(f'Forked the chain on block {boa.env.evm.vm.state.block_number}')\n",
    "\n",
    "addresses_dict = {\n",
    "    # \"pufETH\":       '0xd9a442856c234a39a81a089c06451ebaa4306a72', # does not have version() implemented\n",
    "    \"pufETHwstE\":   '0xeeda34a377dd0ca676b9511ee1324974fa8d980d',\n",
    "    \"crvUSD\":       '0xf939E0A03FB07F59A73314E73794Be0E57ac1b4E'\n",
    "}\n",
    "\n",
    "topholders = {\n",
    "    \"pufETH\":       '0xF047ab4c75cebf0eB9ed34Ae2c186f3611aEAfa6',\n",
    "    \"pufETHwstE\":   '0xf4FA0C7833e778fB9FB392eC36217e17C9133976',\n",
    "    \"crvUSD\":       '0xA920De414eA4Ab66b97dA1bFE9e6EcA7d4219635'\n",
    "}\n",
    "\n",
    "spender = '0xce6431d21e3fb1036ce9973a3312368ed96f5ce7' # some unrelated pool (FRAXsDAI)\n",
    "spender_sc = load_contract(spender, name='FRAXsDAI')\n",
    "\n",
    "# Convert addresses to checksum format\n",
    "for key in addresses_dict.keys():\n",
    "    addresses_dict[key] = to_checksum_address(addresses_dict[key])\n",
    "# Fetch contract data from Etherscan and create the contracts dictionary\n",
    "\n",
    "token_contracts = {key: load_contract(address, name=key) for key, address in addresses_dict.items()}\n",
    "\n",
    "boa.env.set_random_seed(420)\n",
    "alice = Account.create()\n",
    "bob = boa.env.generate_address()\n",
    "charlie = boa.env.generate_address()\n",
    "\n",
    "# Give Alice eth and tokens\n",
    "boa.env.set_balance(alice.address, boa.env.get_balance(alice.address) + 1*10**18)\n",
    "for token in addresses_dict.keys():\n",
    "    with boa.env.prank(topholders[token]):\n",
    "        token_contracts[token].transfer(alice.address, 1*10**18)\n",
    "    print(f'Alice has {token_contracts[token].balanceOf(alice.address)} {token}')\n"
   ]
  },
  {
   "cell_type": "code",
   "execution_count": 76,
   "metadata": {},
   "outputs": [
    {
     "data": {
      "text/plain": [
       "'v1.0.0'"
      ]
     },
     "execution_count": 76,
     "metadata": {},
     "output_type": "execute_result"
    }
   ],
   "source": [
    "token_contracts['crvUSD'].version()"
   ]
  },
  {
   "cell_type": "code",
   "execution_count": 77,
   "metadata": {},
   "outputs": [
    {
     "name": "stdout",
     "output_type": "stream",
     "text": [
      "Allowance for 0x9970BE065e6751AC78Cd07C8E2b54F5D3B88c945 is 0 for pufETHwstE\n",
      "Allowance for 0x9970BE065e6751AC78Cd07C8E2b54F5D3B88c945 is 0 for crvUSD\n"
     ]
    }
   ],
   "source": [
    "# firsts check that allowance is 0\n",
    "for token in addresses_dict.keys():\n",
    "    allowance = token_contracts[token].allowance(alice.address, bob)\n",
    "    assert allowance == 0\n",
    "    print(f'Allowance for {bob} is {allowance} for {token}')"
   ]
  },
  {
   "cell_type": "code",
   "execution_count": 83,
   "metadata": {},
   "outputs": [
    {
     "name": "stdout",
     "output_type": "stream",
     "text": [
      "Permitting 0x9970BE065e6751AC78Cd07C8E2b54F5D3B88c945 to spend pufETHwstE (0xEEda34A377dD0ca676b9511EE1324974fA8d980D) on behalf of 0xa89D2d3Bdc5B4339277D80D2e5144d993aB0f2d2\n",
      "SignedMessage(message_hash=HexBytes('0xee902ce1e83929ee627bbf81d0024f8cfd199d36f032f90877735e7914aaf0a8'), r=34618543039810489027197428548918032459551400793991137651061405453686836940868, s=52072594851280632552069287536463377496359401870852203685177110959482533491059, v=28, signature=HexBytes('0x4c8966a7b605985d85d420b7ee45a439b3b262694f12cabce047e918657dd04473200b530bd69042da185b90440ab243aeb141ec48effdecfb09bd0d7622b1731c'))\n",
      "Permitting 0x9970BE065e6751AC78Cd07C8E2b54F5D3B88c945 to spend crvUSD (0xf939E0A03FB07F59A73314E73794Be0E57ac1b4E) on behalf of 0xa89D2d3Bdc5B4339277D80D2e5144d993aB0f2d2\n",
      "SignedMessage(message_hash=HexBytes('0x0c7d59aa5ec88bce40fba6d278e0de4b8eb3afaa0e2ca12d162f40c2b4a441d8'), r=20657776025325331898167512367821060533991862875254759872840869826151792340353, s=53131425518256716615334649501514455942316849076815454398030022837281371595057, v=27, signature=HexBytes('0x2dabe30aed35932e53a878ebe8e4eadc0f2bbd5cf5c9d312f2e1997da20d6d81757752374565c7a34c9af1a5a94c47d3db8df9de78005ad6529310d7c44221311b'))\n"
     ]
    }
   ],
   "source": [
    "from eip712 import EIP712Message\n",
    "from eth_account._utils.signing import to_bytes32\n",
    "\n",
    "\n",
    "def permit_class(contract) -> type[EIP712Message]:\n",
    "    class Permit(EIP712Message):\n",
    "        # EIP-712 Domain Fields\n",
    "        _name_: \"string\" = contract.name()\n",
    "        _version_: \"string\" = contract.version()\n",
    "        _chainId_: \"uint256\" = boa.env.evm.chain.chain_id\n",
    "        _verifyingContract_: \"address\" = contract.address\n",
    "        # _salt_: \"bytes32\" = contract.salt()\n",
    "\n",
    "        # EIP-2612 Data Fields\n",
    "        owner: \"address\"\n",
    "        spender: \"address\"\n",
    "        value: \"uint256\"\n",
    "        nonce: \"uint256\"\n",
    "        deadline: \"uint256\"\n",
    "\n",
    "    return Permit\n",
    "\n",
    "# now try to issue permit so that Bob can transfer Alice's tokens\n",
    "for token in addresses_dict.keys():\n",
    "    print(f'Permitting {bob} to spend {token} ({addresses_dict[token]}) on behalf of {alice.address}')\n",
    "    # first generate signatiure from alice\n",
    "    value = 10**19\n",
    "    nonce = token_contracts[token].nonces(alice.address)\n",
    "    deadline = 2**256 - 1\n",
    "    permit = permit_class(token_contracts[token])(owner=alice.address, spender=bob, value=value, nonce=nonce, deadline=deadline)\n",
    "    sig = alice.sign_message(permit.signable_message)\n",
    "    print(sig)\n",
    "    # # now charlie calls permit with acquired signature\n",
    "    # with boa.env.prank(bob):\n",
    "    #     tx = token_contracts[token].permit(alice.address, bob, value, deadline, sig.v, to_bytes32(sig.r), to_bytes32(sig.s))\n",
    "    # assert token_contracts[token].allowance(alice, bob) > 0\n",
    "    # print(f'Allowance for {bob} is {token_contracts[token].allowance(alice, bob)} for {token}')\n"
   ]
  },
  {
   "cell_type": "code",
   "execution_count": 103,
   "metadata": {},
   "outputs": [
    {
     "name": "stdout",
     "output_type": "stream",
     "text": [
      "Permitting 0x9970BE065e6751AC78Cd07C8E2b54F5D3B88c945 to spend pufETHwstE (0xEEda34A377dD0ca676b9511EE1324974fA8d980D) on behalf of 0xa89D2d3Bdc5B4339277D80D2e5144d993aB0f2d2\n",
      "SignedMessage(message_hash=HexBytes('0xee902ce1e83929ee627bbf81d0024f8cfd199d36f032f90877735e7914aaf0a8'), r=34618543039810489027197428548918032459551400793991137651061405453686836940868, s=52072594851280632552069287536463377496359401870852203685177110959482533491059, v=28, signature=HexBytes('0x4c8966a7b605985d85d420b7ee45a439b3b262694f12cabce047e918657dd04473200b530bd69042da185b90440ab243aeb141ec48effdecfb09bd0d7622b1731c'))\n",
      "Permitting 0x9970BE065e6751AC78Cd07C8E2b54F5D3B88c945 to spend crvUSD (0xf939E0A03FB07F59A73314E73794Be0E57ac1b4E) on behalf of 0xa89D2d3Bdc5B4339277D80D2e5144d993aB0f2d2\n",
      "SignedMessage(message_hash=HexBytes('0x0c7d59aa5ec88bce40fba6d278e0de4b8eb3afaa0e2ca12d162f40c2b4a441d8'), r=20657776025325331898167512367821060533991862875254759872840869826151792340353, s=53131425518256716615334649501514455942316849076815454398030022837281371595057, v=27, signature=HexBytes('0x2dabe30aed35932e53a878ebe8e4eadc0f2bbd5cf5c9d312f2e1997da20d6d81757752374565c7a34c9af1a5a94c47d3db8df9de78005ad6529310d7c44221311b'))\n"
     ]
    }
   ],
   "source": [
    "from eip712 import EIP712Message\n",
    "from eth_account._utils.signing import to_bytes32\n",
    "\n",
    "\n",
    "def permit_class(contract) -> type[EIP712Message]:\n",
    "    class Permit(EIP712Message):\n",
    "        # EIP-712 Domain Fields\n",
    "        _name_: \"string\" = contract.name()\n",
    "        _version_: \"string\" = contract.version()\n",
    "        _chainId_: \"uint256\" = boa.env.evm.chain.chain_id\n",
    "        _verifyingContract_: \"address\" = contract.address\n",
    "        # _salt_: \"bytes32\" = contract.salt()\n",
    "        # _salt_: \"bytes32\" = 0x0000000000000000000000000000000000000000000000000000000000000000\n",
    "\n",
    "        # EIP-2612 Data Fields\n",
    "        owner: \"address\"\n",
    "        spender: \"address\"\n",
    "        value: \"uint256\"\n",
    "        nonce: \"uint256\"\n",
    "        deadline: \"uint256\"\n",
    "\n",
    "    return Permit\n",
    "\n",
    "# now try to issue permit so that Bob can transfer Alice's tokens\n",
    "for token in addresses_dict.keys():\n",
    "    print(f'Permitting {bob} to spend {token} ({addresses_dict[token]}) on behalf of {alice.address}')\n",
    "    # first generate signatiure from alice\n",
    "    value = 10**19\n",
    "    nonce = token_contracts[token].nonces(alice.address)\n",
    "    deadline = 2**256 - 1\n",
    "    permit = permit_class(token_contracts[token])(owner=alice.address, spender=bob, value=value, nonce=nonce, deadline=deadline)\n",
    "    sig = alice.sign_message(permit.signable_message)\n",
    "    print(sig)\n",
    "    # # now charlie calls permit with acquired signature\n",
    "    # with boa.env.prank(bob):\n",
    "    #     tx = token_contracts[token].permit(alice.address, bob, value, deadline, sig.v, to_bytes32(sig.r), to_bytes32(sig.s))\n",
    "    # assert token_contracts[token].allowance(alice, bob) > 0\n",
    "    # print(f'Allowance for {bob} is {token_contracts[token].allowance(alice, bob)} for {token}')\n"
   ]
  },
  {
   "cell_type": "code",
   "execution_count": null,
   "metadata": {},
   "outputs": [],
   "source": [
    "# zero salt\n",
    "Permitting 0x9970BE065e6751AC78Cd07C8E2b54F5D3B88c945 to spend pufETHwstE (0xEEda34A377dD0ca676b9511EE1324974fA8d980D) on behalf of 0xa89D2d3Bdc5B4339277D80D2e5144d993aB0f2d2\n",
    "SignedMessage(message_hash=HexBytes('0xbd82cf843521e51375965822e267447c5f6df30969af3615bb02bf8c4ba7c776'), r=64688705467306757939225666310195026747702377894275261053515253413651391819876, s=47667337382710111875553003968261248664436068156442405398763344341041314710619, v=27, signature=HexBytes('0x8f048281fe50481894c1ae3310d7f2d4f572cec3db16546f3d540a9842bdb0646962c1c211832f6a4f2a0fee244c10341fafa60b6dbff1200a9e152d91f2c45b1b'))\n",
    "Permitting 0x9970BE065e6751AC78Cd07C8E2b54F5D3B88c945 to spend crvUSD (0xf939E0A03FB07F59A73314E73794Be0E57ac1b4E) on behalf of 0xa89D2d3Bdc5B4339277D80D2e5144d993aB0f2d2\n",
    "SignedMessage(message_hash=HexBytes('0x75f0e40453462b6c4d4d66b6ec10709238c56e1d066428aabad1f109d485785a'), r=15127770303632183756561023058601053577690475949876320223032364837480518131975, s=6878384804131894463586995564078724922005220757433790155649408326746141663936, v=27, signature=HexBytes('0x217203ba906ec4347e2e2a1d5d36aa3ddbc7ce9775e3e72a5278bd93a4e821070f350720390a0599a9d6312350ca73fe0f90e3615f7f23675bde522ec574a2c01b'))\n",
    "# no salt\n",
    "Permitting 0x9970BE065e6751AC78Cd07C8E2b54F5D3B88c945 to spend pufETHwstE (0xEEda34A377dD0ca676b9511EE1324974fA8d980D) on behalf of 0xa89D2d3Bdc5B4339277D80D2e5144d993aB0f2d2\n",
    "SignedMessage(message_hash=HexBytes('0xee902ce1e83929ee627bbf81d0024f8cfd199d36f032f90877735e7914aaf0a8'), r=34618543039810489027197428548918032459551400793991137651061405453686836940868, s=52072594851280632552069287536463377496359401870852203685177110959482533491059, v=28, signature=HexBytes('0x4c8966a7b605985d85d420b7ee45a439b3b262694f12cabce047e918657dd04473200b530bd69042da185b90440ab243aeb141ec48effdecfb09bd0d7622b1731c'))\n",
    "Permitting 0x9970BE065e6751AC78Cd07C8E2b54F5D3B88c945 to spend crvUSD (0xf939E0A03FB07F59A73314E73794Be0E57ac1b4E) on behalf of 0xa89D2d3Bdc5B4339277D80D2e5144d993aB0f2d2\n",
    "SignedMessage(message_hash=HexBytes('0x0c7d59aa5ec88bce40fba6d278e0de4b8eb3afaa0e2ca12d162f40c2b4a441d8'), r=20657776025325331898167512367821060533991862875254759872840869826151792340353, s=53131425518256716615334649501514455942316849076815454398030022837281371595057, v=27, signature=HexBytes('0x2dabe30aed35932e53a878ebe8e4eadc0f2bbd5cf5c9d312f2e1997da20d6d81757752374565c7a34c9af1a5a94c47d3db8df9de78005ad6529310d7c44221311b'))\n",
    "\n",
    "#real salt\n",
    "Permitting 0x9970BE065e6751AC78Cd07C8E2b54F5D3B88c945 to spend pufETHwstE (0xEEda34A377dD0ca676b9511EE1324974fA8d980D) on behalf of 0xa89D2d3Bdc5B4339277D80D2e5144d993aB0f2d2\n",
    "SignedMessage(message_hash=HexBytes('0xb824e987e5c5b5bab350984089f4250df1c535a76f674a5c84d2e158367ba24c'), r=16913679051406756091707278186203229515540451115492973805224540520250531380954, s=16073716070481162119102564797471402863711086700350853286538392988532342833967, v=28, signature=HexBytes('0x2564cd97aeabd2985fd45692c374b9bf93d62e1de59e9af4fed99508e873feda238966a1215ca2ca5e06679aa720d5f1126c3f59b85cd6b63952557b1300c32f1c'))\n",
    "Permitting 0x9970BE065e6751AC78Cd07C8E2b54F5D3B88c945 to spend crvUSD (0xf939E0A03FB07F59A73314E73794Be0E57ac1b4E) on behalf of 0xa89D2d3Bdc5B4339277D80D2e5144d993aB0f2d2\n",
    "SignedMessage(message_hash=HexBytes('0x6278ef46e07f2739009e33a0bd131b972d1e4bfa88916223250c6a0506714975'), r=17684157032342460150062863884227840657362884554483765915895271738470266993885, s=57863609876453660882495215218884385097723183593352757503743980928177804902715, v=28, signature=HexBytes('0x2718e0d057432bc75147f3d4f9fbc1188610564e9221a9a88807bc9e318e7cdd7feda4808c14de345946b0be62146d342d484f8ce55d7e5367858b0e98d7813b1c'))\n",
    "\n",
    "# b0x0\n",
    "Permitting 0x9970BE065e6751AC78Cd07C8E2b54F5D3B88c945 to spend pufETHwstE (0xEEda34A377dD0ca676b9511EE1324974fA8d980D) on behalf of 0xa89D2d3Bdc5B4339277D80D2e5144d993aB0f2d2\n",
    "SignedMessage(message_hash=HexBytes('0xb66f6b61dd3458c6869f1fe8ef13ac860ac0869cc328eb0401a36f46f0e7267c'), r=96899972275616670358133324374390666697895978227102012319194926178424294422153, s=49167280907141680069076095708398939162725225623262255050368327502663518396840, v=27, signature=HexBytes('0xd63b70d3a95d482d9fa7679b077dd5ace83c72b703ca3508a45069d6a9db36896cb3b1df8890ecf80be48c1461eb54a24af6918b7498a1d7f509ba0a9c0221a81b'))\n",
    "Permitting 0x9970BE065e6751AC78Cd07C8E2b54F5D3B88c945 to spend crvUSD (0xf939E0A03FB07F59A73314E73794Be0E57ac1b4E) on behalf of 0xa89D2d3Bdc5B4339277D80D2e5144d993aB0f2d2\n",
    "SignedMessage(message_hash=HexBytes('0x0f17ebda60fed6c0b8848bd01a85a511dafc3a913f6edc0bb6bede3eda540688'), r=112235632458876750731527614130276294660737912014602085573573489191605611403454, s=19590206560179300550259597080293657706394020198259854429258757612783986107755, v=27, signature=HexBytes('0xf8231de66d762bd1ee74f12e254dc0f7718b3960d4d1856e471810cce38618be2b4fa9faa99c4f1c43071b53691cec8bfc976432baba0fc3e117086035b1656b1b'))\n"
   ]
  },
  {
   "cell_type": "code",
   "execution_count": 99,
   "metadata": {},
   "outputs": [
    {
     "data": {
      "text/plain": [
       "0"
      ]
     },
     "execution_count": 99,
     "metadata": {},
     "output_type": "execute_result"
    }
   ],
   "source": [
    "0x0000000000000000000000000000000000000000000000000000000000000000"
   ]
  },
  {
   "cell_type": "code",
   "execution_count": null,
   "metadata": {},
   "outputs": [],
   "source": []
  }
 ],
 "metadata": {
  "kernelspec": {
   "display_name": "crv",
   "language": "python",
   "name": "python3"
  },
  "language_info": {
   "codemirror_mode": {
    "name": "ipython",
    "version": 3
   },
   "file_extension": ".py",
   "mimetype": "text/x-python",
   "name": "python",
   "nbconvert_exporter": "python",
   "pygments_lexer": "ipython3",
   "version": "3.12.4"
  }
 },
 "nbformat": 4,
 "nbformat_minor": 2
}
