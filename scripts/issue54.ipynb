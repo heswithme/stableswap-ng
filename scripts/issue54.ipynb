{
 "cells": [
  {
   "cell_type": "code",
   "execution_count": 52,
   "metadata": {},
   "outputs": [
    {
     "name": "stdout",
     "output_type": "stream",
     "text": [
      "Forked the chain on block 20420069\n",
      "Alice has 1000000000000000000 pufETHwstE\n",
      "Alice has 1000000000000000000 crvUSD\n"
     ]
    }
   ],
   "source": [
    "import boa\n",
    "import sys, os\n",
    "from eth_utils import to_checksum_address\n",
    "from boa.contracts.abi.abi_contract import ABIContractFactory\n",
    "from eth_account.account import Account, LocalAccount\n",
    "\n",
    "parent_dir = os.path.abspath('..')\n",
    "sys.path.insert(0, parent_dir)\n",
    "\n",
    "dotenv_path = os.path.expanduser('~/.web3env') # Path to .env file containing rpcs and keys\n",
    "\n",
    "def load_contract(contract_address, name=None, api_key=os.environ.get(\"ETHERSCAN_API_KEY\")):\n",
    "    addr = to_checksum_address(contract_address)\n",
    "    abi = boa.explorer.fetch_abi_from_etherscan(addr, api_key=api_key)\n",
    "    return ABIContractFactory.from_abi_dict(abi, name=name).at(addr)\n",
    "\n",
    "rpc_url = os.getenv(\"ETH_RPC_URL\")\n",
    "assert rpc_url is not None, \"Provider url is not set\"\n",
    "# fork the chain\n",
    "boa.env.fork(url=rpc_url, block_identifier=20420069)\n",
    "boa.env.enable_fast_mode()\n",
    "print(f'Forked the chain on block {boa.env.evm.vm.state.block_number}')\n",
    "\n",
    "addresses_dict = {\n",
    "    # \"pufETH\":       '0xd9a442856c234a39a81a089c06451ebaa4306a72', # does not have version()\n",
    "    \"pufETHwstE\":   '0xeeda34a377dd0ca676b9511ee1324974fa8d980d',\n",
    "    \"crvUSD\":       '0xf939E0A03FB07F59A73314E73794Be0E57ac1b4E'\n",
    "}\n",
    "\n",
    "topholders = {\n",
    "    \"pufETH\":       '0xF047ab4c75cebf0eB9ed34Ae2c186f3611aEAfa6',\n",
    "    \"pufETHwstE\":   '0xf4FA0C7833e778fB9FB392eC36217e17C9133976',\n",
    "    \"crvUSD\":       '0xA920De414eA4Ab66b97dA1bFE9e6EcA7d4219635'\n",
    "}\n",
    "\n",
    "spender = '0xce6431d21e3fb1036ce9973a3312368ed96f5ce7' # some unrelated pool (FRAXsDAI)\n",
    "spender_sc = load_contract(spender, name='FRAXsDAI')\n",
    "\n",
    "# Convert addresses to checksum format\n",
    "for key in addresses_dict.keys():\n",
    "    addresses_dict[key] = to_checksum_address(addresses_dict[key])\n",
    "# Fetch contract data from Etherscan and create the contracts dictionary\n",
    "\n",
    "token_contracts = {key: load_contract(address, name=key) for key, address in addresses_dict.items()}\n",
    "\n",
    "boa.env.set_random_seed(420)\n",
    "alice = Account.create()\n",
    "bob = boa.env.generate_address()\n",
    "charlie = boa.env.generate_address()\n",
    "\n",
    "# Give Alice eth and tokens\n",
    "boa.env.set_balance(alice.address, boa.env.get_balance(alice.address) + 1*10**18)\n",
    "for token in addresses_dict.keys():\n",
    "    with boa.env.prank(topholders[token]):\n",
    "        token_contracts[token].transfer(alice.address, 1*10**18)\n",
    "    print(f'Alice has {token_contracts[token].balanceOf(alice.address)} {token}')\n"
   ]
  },
  {
   "cell_type": "code",
   "execution_count": 15,
   "metadata": {},
   "outputs": [
    {
     "data": {
      "text/plain": [
       "'v1.0.0'"
      ]
     },
     "execution_count": 15,
     "metadata": {},
     "output_type": "execute_result"
    }
   ],
   "source": [
    "token_contracts['crvUSD'].version()"
   ]
  },
  {
   "cell_type": "code",
   "execution_count": 53,
   "metadata": {},
   "outputs": [
    {
     "name": "stdout",
     "output_type": "stream",
     "text": [
      "Allowance for 0x9970BE065e6751AC78Cd07C8E2b54F5D3B88c945 is 0 for pufETHwstE\n",
      "Allowance for 0x9970BE065e6751AC78Cd07C8E2b54F5D3B88c945 is 0 for crvUSD\n"
     ]
    }
   ],
   "source": [
    "# firsts check that allowance is 0\n",
    "for token in addresses_dict.keys():\n",
    "    assert token_contracts[token].allowance(alice, bob) == 0\n",
    "    print(f'Allowance for {bob} is 0 for {token}')"
   ]
  },
  {
   "cell_type": "code",
   "execution_count": 55,
   "metadata": {},
   "outputs": [
    {
     "name": "stdout",
     "output_type": "stream",
     "text": [
      "Permitting 0x9970BE065e6751AC78Cd07C8E2b54F5D3B88c945 to spend pufETHwstE (0xEEda34A377dD0ca676b9511EE1324974fA8d980D) on behalf of 0xd50423230083cE32455Bd277336886C1AE5bA0Ce\n",
      "SignableMessage(version=HexBytes('0x01'), header=HexBytes('0x4930e62b65934f63c2278e52ff3499d854dee334007b6f38e1ca7828ac12eb5b'), body=HexBytes('0x7141052406d4a72593be8c660b0e64561b5bf1ac84cf0d344d5bdd44b5e64f63'))\n",
      "Permitting 0x9970BE065e6751AC78Cd07C8E2b54F5D3B88c945 to spend crvUSD (0xf939E0A03FB07F59A73314E73794Be0E57ac1b4E) on behalf of 0xd50423230083cE32455Bd277336886C1AE5bA0Ce\n",
      "SignableMessage(version=HexBytes('0x01'), header=HexBytes('0x7906987b5141f4b3a52bd45bf8cd1495b428ff72f3caefd1d670d9726103a7f0'), body=HexBytes('0x7141052406d4a72593be8c660b0e64561b5bf1ac84cf0d344d5bdd44b5e64f63'))\n"
     ]
    }
   ],
   "source": [
    "from eip712 import EIP712Message\n",
    "from eth_account._utils.signing import to_bytes32\n",
    "\n",
    "\n",
    "def permit_class(contract) -> type[EIP712Message]:\n",
    "    class Permit(EIP712Message):\n",
    "        # EIP-712 Domain Fields\n",
    "        _name_: \"string\" = contract.name()\n",
    "        _version_: \"string\" = contract.version()\n",
    "        _chainId_: \"uint256\" = boa.env.evm.chain.chain_id\n",
    "        _verifyingContract_: \"address\" = contract.address\n",
    "        _salt_: \"bytes32\" = contract.salt()\n",
    "\n",
    "        # EIP-2612 Data Fields\n",
    "        owner: \"address\"\n",
    "        spender: \"address\"\n",
    "        value: \"uint256\"\n",
    "        nonce: \"uint256\"\n",
    "        deadline: \"uint256\"\n",
    "\n",
    "    return Permit\n",
    "\n",
    "# now try to issue permit so that Bob can transfer Alice's tokens\n",
    "for token in addresses_dict.keys():\n",
    "    print(f'Permitting {bob} to spend {token} ({addresses_dict[token]}) on behalf of {alice.address}')\n",
    "    # first generate signatiure from alice\n",
    "    value = 2**256 - 1\n",
    "    permit = permit_class(token_contracts[token])(owner=alice.address, spender=bob, value=value, nonce=0, deadline=2**256 - 1)\n",
    "    sig = alice.sign_message(permit.signable_message)\n",
    "    print(permit.signable_message, sig)\n"
   ]
  },
  {
   "cell_type": "code",
   "execution_count": 43,
   "metadata": {},
   "outputs": [
    {
     "data": {
      "text/plain": [
       "'0x42c14f32868cC6A0Ee2e628ab4C1247Dd006Fe8b'"
      ]
     },
     "execution_count": 43,
     "metadata": {},
     "output_type": "execute_result"
    }
   ],
   "source": [
    "a = Account.create()\n",
    "a.address"
   ]
  },
  {
   "cell_type": "code",
   "execution_count": 48,
   "metadata": {},
   "outputs": [
    {
     "data": {
      "text/plain": [
       "Address('0x849229Fb812e736ee264A84475beaf1F4A931cE4')"
      ]
     },
     "execution_count": 48,
     "metadata": {},
     "output_type": "execute_result"
    }
   ],
   "source": [
    "boa.env.generate_address()"
   ]
  },
  {
   "cell_type": "code",
   "execution_count": 50,
   "metadata": {},
   "outputs": [
    {
     "data": {
      "text/plain": [
       "Address('0x42c14f32868cC6A0Ee2e628ab4C1247Dd006Fe8b')"
      ]
     },
     "execution_count": 50,
     "metadata": {},
     "output_type": "execute_result"
    }
   ],
   "source": [
    "boa.util.abi.Address(a.address)"
   ]
  },
  {
   "cell_type": "code",
   "execution_count": null,
   "metadata": {},
   "outputs": [],
   "source": []
  }
 ],
 "metadata": {
  "kernelspec": {
   "display_name": "crv",
   "language": "python",
   "name": "python3"
  },
  "language_info": {
   "codemirror_mode": {
    "name": "ipython",
    "version": 3
   },
   "file_extension": ".py",
   "mimetype": "text/x-python",
   "name": "python",
   "nbconvert_exporter": "python",
   "pygments_lexer": "ipython3",
   "version": "3.12.4"
  }
 },
 "nbformat": 4,
 "nbformat_minor": 2
}
